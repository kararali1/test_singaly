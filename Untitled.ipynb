{
 "cells": [
  {
   "cell_type": "code",
   "execution_count": 25,
   "metadata": {},
   "outputs": [
    {
     "name": "stdout",
     "output_type": "stream",
     "text": [
      "<pyspark.sql.session.SparkSession object at 0x00000199482C0408>\n"
     ]
    }
   ],
   "source": [
    "import os\n",
    "import sys\n",
    "import pyspark\n",
    "import requests\n",
    "import json\n",
    "from pyspark.sql import SparkSession\n",
    "from pyspark.sql.functions import date_format, to_date, col\n",
    "from pyspark.sql.types import StringType, StructType, StructField, DoubleType, NumericType, DecimalType, ArrayType\n",
    "\n",
    "spark = SparkSession.builder.appName('SparkByExample.com').config(\"spark.driver.memory\", \"4g\").config('spark.executor.cores', '4').getOrCreate()\n",
    "print(spark)\n",
    "\n",
    "os.environ['PYSPARK_PYTHON'] = sys.executable\n",
    "os.environ['PYSPARK_DRIVER_PYTHON'] = sys.executable"
   ]
  },
  {
   "cell_type": "markdown",
   "metadata": {},
   "source": [
    "# Case 1"
   ]
  },
  {
   "cell_type": "code",
   "execution_count": 26,
   "metadata": {},
   "outputs": [
    {
     "name": "stdout",
     "output_type": "stream",
     "text": [
      "Header: application/json\n"
     ]
    }
   ],
   "source": [
    "def exchange_rates():\n",
    "    response=requests.get('https://v6.exchangerate-api.com/v6/d95f46213104ffa309bca4f3/latest/EUR')\n",
    "    if response.status_code !=200:\n",
    "        print(\"Status Code :\",response.status_code)\n",
    "        raise Exception(\"There was error!\")\n",
    "    \n",
    "    print(\"Header:\",response.headers['Content-Type'])\n",
    "    data=response.json()\n",
    "    \n",
    "    conversion_rates_all = data['conversion_rates']\n",
    "    \n",
    "    return conversion_rates_all\n",
    "\n",
    "conversion_rates_all = exchange_rates()"
   ]
  },
  {
   "cell_type": "code",
   "execution_count": 27,
   "metadata": {},
   "outputs": [],
   "source": [
    "#Reading sales file\n",
    "\n",
    "sales = spark.read.options(header='True', inferSchema='True', delimiter=',') \\\n",
    "  .csv(\"sales_and_traffic_data.csv\")\n",
    "\n",
    "mapping = spark.read.options(header='True', inferSchema='True', delimiter=',') \\\n",
    "  .csv(\"amazon_shop_mapping.csv\")"
   ]
  },
  {
   "cell_type": "code",
   "execution_count": 28,
   "metadata": {},
   "outputs": [],
   "source": [
    "mapping = mapping.withColumnRenamed(\"country\", \"region\")\n",
    "mapping = mapping.drop('id')\n",
    "\n",
    "# Drop duplicate rows based on specific columns (keep the first occurrence)\n",
    "\n",
    "columns_to_check_duplicates = [\"shop_name\", \"region\"]\n",
    "mapping = mapping.dropDuplicates(subset=columns_to_check_duplicates)"
   ]
  },
  {
   "cell_type": "code",
   "execution_count": 29,
   "metadata": {},
   "outputs": [],
   "source": [
    "#Joining on sale and mapping\n",
    "\n",
    "join_columns = [\"shop_name\", \"region\"]\n",
    "\n",
    "result_df = sales.join(mapping, on=join_columns, how=\"left\")\n"
   ]
  },
  {
   "cell_type": "code",
   "execution_count": 30,
   "metadata": {},
   "outputs": [],
   "source": [
    "#changig json to dataframe\n",
    "\n",
    "schema = StructType([\n",
    "    StructField(\"currency\", StringType(), True),\n",
    "    StructField(\"exchange_rate\", DoubleType(), True)\n",
    "])\n",
    "\n",
    "# Convert the dictionary to a list of tuples with key-value pairs\n",
    "data = [(currency, float(exchange_rate)) for currency, exchange_rate in conversion_rates_all.items()]\n",
    "\n",
    "# Create a DataFrame\n",
    "currenc_df = spark.createDataFrame(data, schema=schema)\n"
   ]
  },
  {
   "cell_type": "code",
   "execution_count": 31,
   "metadata": {},
   "outputs": [],
   "source": [
    "#joining currenc_df with result_df\n",
    "\n",
    "result_df = result_df.join(currenc_df, on='currency', how=\"left\")"
   ]
  },
  {
   "cell_type": "code",
   "execution_count": 34,
   "metadata": {},
   "outputs": [
    {
     "data": {
      "text/plain": [
       "5000"
      ]
     },
     "execution_count": 34,
     "metadata": {},
     "output_type": "execute_result"
    }
   ],
   "source": [
    "result_df.count()"
   ]
  },
  {
   "cell_type": "code",
   "execution_count": 35,
   "metadata": {},
   "outputs": [],
   "source": [
    "#Converting base on exchange rae\n",
    "result_df = result_df.withColumn(\"ordered_products_sales_euro\", col(\"ordered_products_sale\") / col(\"exchange_rate\"))\n",
    "result_df = result_df.withColumn(\"ordered_products_sales_b2b_euro\", col(\"ordered_products_sales_b2b\") / col(\"exchange_rate\"))"
   ]
  },
  {
   "cell_type": "code",
   "execution_count": 37,
   "metadata": {},
   "outputs": [
    {
     "name": "stdout",
     "output_type": "stream",
     "text": [
      "+--------+---------------+------+---+----------+--------+----------+-------------+-----------------+---------------------+--------------------------+-------------------+-----------------------+-----------+-------------+---------------------------+-------------------------------+\n",
      "|currency|      shop_name|region|  #|child_asin|sessions|page_views|units_ordered|units_ordered_b2b|ordered_products_sale|ordered_products_sales_b2b|total_ordered_items|total_ordered_items_b2b|report_date|exchange_rate|ordered_products_sales_euro|ordered_products_sales_b2b_euro|\n",
      "+--------+---------------+------+---+----------+--------+----------+-------------+-----------------+---------------------+--------------------------+-------------------+-----------------------+-----------+-------------+---------------------------+-------------------------------+\n",
      "|     GBP|Electronic-Star|    UK|  1|B00H5155LG|       1|         1|            0|                0|               116.64|                     62.49|                  0|                      0|  3/20/2022|       0.8653|          134.7971801687276|              72.21772795562234|\n",
      "|     GBP|Electronic-Star|    UK|  2|B002P7L4R4|       1|         2|            0|                0|               121.55|                    227.24|                  0|                      0|  3/16/2022|       0.8653|         140.47151277013754|             262.61412226973306|\n",
      "|     EUR|      Klarstein|    FR|  3|B08H52NTJ2|       2|         2|            0|                0|                79.82|                      5.76|                  0|                      0|  2/20/2022|          1.0|                      79.82|                           5.76|\n",
      "|     EUR|Electronic-Star|    ES|  4|B07D5GJZ85|       2|         6|            0|                0|                76.51|                    211.71|                  0|                      0|  3/31/2022|          1.0|                      76.51|                         211.71|\n",
      "|     EUR|Electronic-Star|    FR|  5|B07YZM55RQ|       1|         4|            0|                0|                63.37|                    128.15|                  0|                      0|  2/28/2022|          1.0|                      63.37|                         128.15|\n",
      "|     EUR|Electronic-Star|    IT|  6|B00606UQ84|      17|        37|            1|                0|               278.18|                      0.78|                  1|                      0|  1/13/2022|          1.0|                     278.18|                           0.78|\n",
      "|     EUR|      Klarstein|    FR|  7|B08BV3FR22|      17|        25|            1|                0|               169.59|                     251.1|                  1|                      0|  3/17/2022|          1.0|                     169.59|                          251.1|\n",
      "|     EUR|        BeerCup|    DE|  8|B07N2VHZ95|       1|         1|            0|                0|               173.36|                     146.1|                  0|                      0|  1/14/2022|          1.0|                     173.36|                          146.1|\n",
      "|     EUR|Electronic-Star|    DE|  9|B0070XA8NY|       4|         7|            0|                0|                87.12|                    247.13|                  0|                      0|  1/17/2022|          1.0|                      87.12|                         247.13|\n",
      "|     EUR|      Klarstein|    FR| 10|B07NJ3XFPG|       5|         6|            0|                0|                  3.9|                     45.01|                  0|                      0|  2/17/2022|          1.0|                        3.9|                          45.01|\n",
      "|     EUR|Electronic-Star|    DE| 11|B00QSFMRSE|       5|         5|            0|                0|                72.29|                     55.75|                  0|                      0|  1/11/2022|          1.0|                      72.29|                          55.75|\n",
      "|     EUR|      Klarstein|    ES| 12|B08ZJLL5P2|       1|         1|            0|                0|               144.41|                    186.94|                  0|                      0|  2/25/2022|          1.0|                     144.41|                         186.94|\n",
      "|     EUR|Electronic-Star|    DE| 13|B00H9HFNPE|       1|         1|            0|                0|               137.14|                    193.21|                  0|                      0|   1/6/2022|          1.0|                     137.14|                         193.21|\n",
      "|     EUR|      Klarstein|    IT| 14|B08FBJC6MG|      13|        16|            0|                0|                63.94|                     41.99|                  0|                      0|  2/28/2022|          1.0|                      63.94|                          41.99|\n",
      "|     EUR|Electronic-Star|    DE| 15|B08NTPXHS1|       9|        15|            0|                0|               202.19|                    211.47|                  0|                      0|  1/14/2022|          1.0|                     202.19|                         211.47|\n",
      "|     EUR|Electronic-Star|    DE| 16|B08VWKJGQL|       1|         1|            0|                0|                210.9|                    211.05|                  0|                      0|  1/29/2022|          1.0|                      210.9|                         211.05|\n",
      "|     EUR|      Klarstein|    FR| 17|B089YXZWZM|       1|         2|            0|                0|               245.35|                    278.09|                  0|                      0|  2/15/2022|          1.0|                     245.35|                         278.09|\n",
      "|     EUR|      Klarstein|    FR| 18|B07G58M5XB|      59|        75|            0|                0|               109.39|                     140.4|                  0|                      0|   3/2/2022|          1.0|                     109.39|                          140.4|\n",
      "|     EUR|Electronic-Star|    DE| 19|B07Q3GW3LB|      34|        50|            0|                0|               176.49|                    128.65|                  0|                      0|   2/2/2022|          1.0|                     176.49|                         128.65|\n",
      "|     EUR|Electronic-Star|    DE| 20|B0002DEYFW|       0|         0|            0|                0|               177.12|                    199.81|                  0|                      0|   2/7/2022|          1.0|                     177.12|                         199.81|\n",
      "+--------+---------------+------+---+----------+--------+----------+-------------+-----------------+---------------------+--------------------------+-------------------+-----------------------+-----------+-------------+---------------------------+-------------------------------+\n",
      "only showing top 20 rows\n",
      "\n"
     ]
    }
   ],
   "source": [
    "result_df.show()"
   ]
  },
  {
   "cell_type": "code",
   "execution_count": 38,
   "metadata": {},
   "outputs": [],
   "source": [
    "#Adding new col by summation of newly generated cols\n",
    "\n",
    "result_df = result_df.withColumn(\"Total_euro\", col(\"ordered_products_sales_b2b_euro\") + col(\"ordered_products_sales_euro\"))"
   ]
  },
  {
   "cell_type": "code",
   "execution_count": 39,
   "metadata": {},
   "outputs": [
    {
     "name": "stdout",
     "output_type": "stream",
     "text": [
      "Total revenue of ordered_products_sales_b2b_euro: 1402132.8410984552\n"
     ]
    }
   ],
   "source": [
    "# Sum the values in the \"Total_euro\" column\n",
    "\n",
    "total_sum = result_df.agg(sum(\"Total_euro\")).collect()[0][0]\n",
    "\n",
    "# Print the total sum\n",
    "print(\"Total revenue of ordered_products_sales_b2b_euro:\", total_sum)"
   ]
  },
  {
   "cell_type": "code",
   "execution_count": 40,
   "metadata": {},
   "outputs": [],
   "source": [
    "#aggregation by region\n",
    "agg_df = result_df.groupBy(\"region\").agg(sum(\"Total_euro\").alias(\"total_sales_by_region\"))"
   ]
  },
  {
   "cell_type": "code",
   "execution_count": 41,
   "metadata": {},
   "outputs": [
    {
     "name": "stdout",
     "output_type": "stream",
     "text": [
      "+------+---------------------+\n",
      "|region|total_sales_by_region|\n",
      "+------+---------------------+\n",
      "|    NL|    60722.72000000001|\n",
      "|    PL|   1979.0659209123162|\n",
      "|    MX|     407.814706370961|\n",
      "|    CA|   12647.852548585655|\n",
      "|    DE|    359060.0199999994|\n",
      "|    ES|    78008.69000000003|\n",
      "|    TR|                 null|\n",
      "|    US|    409119.5933806148|\n",
      "|    FR|   185737.00000000006|\n",
      "|    IT|   177971.91999999984|\n",
      "|    SE|   2436.5142472747343|\n",
      "|    UK|   114041.65029469554|\n",
      "+------+---------------------+\n",
      "\n"
     ]
    }
   ],
   "source": [
    "agg_df.show()"
   ]
  },
  {
   "cell_type": "code",
   "execution_count": 42,
   "metadata": {
    "scrolled": true
   },
   "outputs": [
    {
     "name": "stdout",
     "output_type": "stream",
     "text": [
      "+--------------------+------------------------+\n",
      "|           shop_name|total_sales_by_shop_name|\n",
      "+--------------------+------------------------+\n",
      "|              Zelite|       690.9692671394798|\n",
      "|           Klarstein|       65260.91481682656|\n",
      "|     Electronic-Star|       84098.05564312954|\n",
      "|                 BBG|       173.0496453900709|\n",
      "|BBG Scandinavian Hub|                    null|\n",
      "|             Feelino|       44839.60833930427|\n",
      "|            Gramercy|        60459.3646544838|\n",
      "|        Spielehelden|                  550.04|\n",
      "|            slimpuro|      201142.67883492835|\n",
      "|          Superlunar|                  746.84|\n",
      "|           Casa Chic|       4489.829738818908|\n",
      "|  The Friendly Swede|       870672.5663658577|\n",
      "|             BeerCup|        69008.9237925745|\n",
      "|            skullcap|                    null|\n",
      "+--------------------+------------------------+\n",
      "\n"
     ]
    }
   ],
   "source": [
    "#aggregation by shop_name\n",
    "\n",
    "agg_df = result_df.groupBy(\"shop_name\").agg(sum(\"Total_euro\").alias(\"total_sales_by_shop_name\"))\n",
    "agg_df.show()"
   ]
  },
  {
   "cell_type": "code",
   "execution_count": 43,
   "metadata": {},
   "outputs": [],
   "source": [
    "spark.conf.set(\"spark.sql.legacy.timeParserPolicy\", \"LEGACY\")"
   ]
  },
  {
   "cell_type": "code",
   "execution_count": 44,
   "metadata": {},
   "outputs": [
    {
     "name": "stdout",
     "output_type": "stream",
     "text": [
      "+-----+--------------------+\n",
      "|month|total_sales_by_month|\n",
      "+-----+--------------------+\n",
      "|    1|  362648.36560848355|\n",
      "|    3|   597288.9980882284|\n",
      "|    2|  442195.47740174085|\n",
      "+-----+--------------------+\n",
      "\n"
     ]
    }
   ],
   "source": [
    "#aggregation by month\n",
    "\n",
    "# Convert the \"report_date\" column to a date type\n",
    "result_df = result_df.withColumn(\"report_date\", to_date(col(\"report_date\"), \"MM/dd/yyyy\"))\n",
    "\n",
    "# Extract the month from the \"report_date\" column\n",
    "result_df = result_df.withColumn(\"month\", month(\"report_date\"))\n",
    "\n",
    "# Group by \"month\" and aggregate the sum of \"ordered_products_sales_b2b_euro\" for each month\n",
    "agg_df = result_df.groupBy(\"month\").agg(sum(\"Total_euro\").alias(\"total_sales_by_month\"))\n",
    "\n",
    "# Show the aggregated DataFrame\n",
    "agg_df.show()"
   ]
  },
  {
   "cell_type": "markdown",
   "metadata": {},
   "source": [
    "# Case 2"
   ]
  },
  {
   "cell_type": "code",
   "execution_count": 54,
   "metadata": {},
   "outputs": [],
   "source": [
    "data = spark.read.json('campaign_object.json')"
   ]
  },
  {
   "cell_type": "code",
   "execution_count": 55,
   "metadata": {},
   "outputs": [
    {
     "data": {
      "text/plain": [
       "DataFrame[columns: array<string>, data: array<array<string>>]"
      ]
     },
     "execution_count": 55,
     "metadata": {},
     "output_type": "execute_result"
    }
   ],
   "source": [
    "data"
   ]
  },
  {
   "cell_type": "code",
   "execution_count": 58,
   "metadata": {},
   "outputs": [
    {
     "name": "stdout",
     "output_type": "stream",
     "text": [
      "+----------+---------+----------------------------------------------------------------------------------------------------------------------------------------------------------------------------------------------------------------------------------------------------------------------------+---------+---------------------------------------------------------------------+-------------------------------------------------+------------------------------------+--------------------------------------------------------------------------------------------------------------------------------------------------+\n",
      "|CAMPAIGNID|STARTDATE|CREATIVE                                                                                                                                                                                                                                                                    |brandName|brandLogoAssetID                                                     |headline                                         |asins                               |brandLogoUrl                                                                                                                                      |\n",
      "+----------+---------+----------------------------------------------------------------------------------------------------------------------------------------------------------------------------------------------------------------------------------------------------------------------------+---------+---------------------------------------------------------------------+-------------------------------------------------+------------------------------------+--------------------------------------------------------------------------------------------------------------------------------------------------+\n",
      "|54356000  |20220326 |{Pamara, amzn1.assetlibrary.asset1.198f5d4d083135d4acff704bf947a982:version_v1, Per il tuo futuro luminoso, [B06W5543D6, B074F576VM, B078VLNF5K], https://m.media-amazon.com/images/S/al-eu-726f4d26-7fdb/1b6aeff7-5d01-458e-9e26-5afb917cf8aa.png}                         |Pamara   |amzn1.assetlibrary.asset1.198f5d4d083135d4acff704bf947a982:version_v1|Per il tuo futuro luminoso                       |[B06W5543D6, B074F576VM, B078VLNF5K]|https://m.media-amazon.com/images/S/al-eu-726f4d26-7fdb/1b6aeff7-5d01-458e-9e26-5afb917cf8aa.png                                                  |\n",
      "|32659511  |20220326 |{Pamara, amzn1.assetlibrary.asset1.198f5d4d083135d4acff704bf947a982:version_v1, Per il tuo futuro luminoso, [B06W5543D6, B074F576VM, B078VLNF5K], https://m.media-amazon.com/images/S/al-eu-726f4d26-7fdb/1b6aeff7-5d01-458e-9e26-5afb917cf8aa.png}                         |Pamara   |amzn1.assetlibrary.asset1.198f5d4d083135d4acff704bf947a982:version_v1|Per il tuo futuro luminoso                       |[B06W5543D6, B074F576VM, B078VLNF5K]|https://m.media-amazon.com/images/S/al-eu-726f4d26-7fdb/1b6aeff7-5d01-458e-9e26-5afb917cf8aa.png                                                  |\n",
      "|14600371  |20221004 |{Pamara, amzn1.assetlibrary.asset1.002fba670e99103c9fa705c7af5a9497:version_v1, Per il tuo futuro luminoso, [B06W5543D6, B074F576VM, B078VLNF5K], https://m.media-amazon.com/images/S/al-eu-726f4d26-7fdb/21ad301e-8262-4eb4-8aa4-e9d7469969b7.png}                         |Pamara   |amzn1.assetlibrary.asset1.002fba670e99103c9fa705c7af5a9497:version_v1|Per il tuo futuro luminoso                       |[B06W5543D6, B074F576VM, B078VLNF5K]|https://m.media-amazon.com/images/S/al-eu-726f4d26-7fdb/21ad301e-8262-4eb4-8aa4-e9d7469969b7.png                                                  |\n",
      "|68849012  |20221004 |{Pamara, amzn1.assetlibrary.asset1.002fba670e99103c9fa705c7af5a9497:version_v1, Per il tuo futuro luminoso, [B06W5543D6, B074F576VM, B078VLNF5K], https://m.media-amazon.com/images/S/al-eu-726f4d26-7fdb/21ad301e-8262-4eb4-8aa4-e9d7469969b7.png}                         |Pamara   |amzn1.assetlibrary.asset1.002fba670e99103c9fa705c7af5a9497:version_v1|Per il tuo futuro luminoso                       |[B06W5543D6, B074F576VM, B078VLNF5K]|https://m.media-amazon.com/images/S/al-eu-726f4d26-7fdb/21ad301e-8262-4eb4-8aa4-e9d7469969b7.png                                                  |\n",
      "|39939835  |20221004 |{Pamara, amzn1.assetlibrary.asset1.002fba670e99103c9fa705c7af5a9497:version_v1, Per il tuo futuro luminoso, [B06W5543D6, B074F576VM, B078VLNF5K], https://m.media-amazon.com/images/S/al-eu-726f4d26-7fdb/21ad301e-8262-4eb4-8aa4-e9d7469969b7.png}                         |Pamara   |amzn1.assetlibrary.asset1.002fba670e99103c9fa705c7af5a9497:version_v1|Per il tuo futuro luminoso                       |[B06W5543D6, B074F576VM, B078VLNF5K]|https://m.media-amazon.com/images/S/al-eu-726f4d26-7fdb/21ad301e-8262-4eb4-8aa4-e9d7469969b7.png                                                  |\n",
      "|32444332  |20221025 |{Pamara, amzn1.assetlibrary.asset1.002fba670e99103c9fa705c7af5a9497:version_v1, Per il tuo futuro luminoso, [B06W5543D6, B074F576VM, B078VLNF5K], https://m.media-amazon.com/images/S/al-eu-726f4d26-7fdb/21ad301e-8262-4eb4-8aa4-e9d7469969b7.png}                         |Pamara   |amzn1.assetlibrary.asset1.002fba670e99103c9fa705c7af5a9497:version_v1|Per il tuo futuro luminoso                       |[B06W5543D6, B074F576VM, B078VLNF5K]|https://m.media-amazon.com/images/S/al-eu-726f4d26-7fdb/21ad301e-8262-4eb4-8aa4-e9d7469969b7.png                                                  |\n",
      "|8327752   |20221025 |{Pamara, amzn1.assetlibrary.asset1.002fba670e99103c9fa705c7af5a9497:version_v1, Per il tuo futuro luminoso, [B06W5543D6, B074F576VM, B078VLNF5K], https://m.media-amazon.com/images/S/al-eu-726f4d26-7fdb/21ad301e-8262-4eb4-8aa4-e9d7469969b7.png}                         |Pamara   |amzn1.assetlibrary.asset1.002fba670e99103c9fa705c7af5a9497:version_v1|Per il tuo futuro luminoso                       |[B06W5543D6, B074F576VM, B078VLNF5K]|https://m.media-amazon.com/images/S/al-eu-726f4d26-7fdb/21ad301e-8262-4eb4-8aa4-e9d7469969b7.png                                                  |\n",
      "|6889220   |20221025 |{Pamara, amzn1.assetlibrary.asset1.002fba670e99103c9fa705c7af5a9497:version_v1, Per il tuo futuro luminoso, [B06W5543D6, B074F576VM, B078VLNF5K], https://m.media-amazon.com/images/S/al-eu-726f4d26-7fdb/21ad301e-8262-4eb4-8aa4-e9d7469969b7.png}                         |Pamara   |amzn1.assetlibrary.asset1.002fba670e99103c9fa705c7af5a9497:version_v1|Per il tuo futuro luminoso                       |[B06W5543D6, B074F576VM, B078VLNF5K]|https://m.media-amazon.com/images/S/al-eu-726f4d26-7fdb/21ad301e-8262-4eb4-8aa4-e9d7469969b7.png                                                  |\n",
      "|44991714  |20221124 |{Pamara, amzn1.assetlibrary.asset1.002fba670e99103c9fa705c7af5a9497:version_v1, Per il tuo futuro luminoso, [B074F576VM, B078VLNF5K], https://m.media-amazon.com/images/S/al-eu-726f4d26-7fdb/21ad301e-8262-4eb4-8aa4-e9d7469969b7.png}                                     |Pamara   |amzn1.assetlibrary.asset1.002fba670e99103c9fa705c7af5a9497:version_v1|Per il tuo futuro luminoso                       |[B074F576VM, B078VLNF5K]            |https://m.media-amazon.com/images/S/al-eu-726f4d26-7fdb/21ad301e-8262-4eb4-8aa4-e9d7469969b7.png                                                  |\n",
      "|24046193  |20221124 |{Pamara, amzn1.assetlibrary.asset1.002fba670e99103c9fa705c7af5a9497:version_v1, Per il tuo futuro luminoso, [B074F576VM, B078VLNF5K], https://m.media-amazon.com/images/S/al-eu-726f4d26-7fdb/21ad301e-8262-4eb4-8aa4-e9d7469969b7.png}                                     |Pamara   |amzn1.assetlibrary.asset1.002fba670e99103c9fa705c7af5a9497:version_v1|Per il tuo futuro luminoso                       |[B074F576VM, B078VLNF5K]            |https://m.media-amazon.com/images/S/al-eu-726f4d26-7fdb/21ad301e-8262-4eb4-8aa4-e9d7469969b7.png                                                  |\n",
      "|34073463  |20211126 |{Pamara, amzn1.assetlibrary.asset1.198f5d4d083135d4acff704bf947a982:version_v1, Per il tuo futuro luminoso, [B06W5543D6, B074F576VM, B078VLNF5K], https://m.media-amazon.com/images/S/al-eu-726f4d26-7fdb/1b6aeff7-5d01-458e-9e26-5afb917cf8aa.png}                         |Pamara   |amzn1.assetlibrary.asset1.198f5d4d083135d4acff704bf947a982:version_v1|Per il tuo futuro luminoso                       |[B06W5543D6, B074F576VM, B078VLNF5K]|https://m.media-amazon.com/images/S/al-eu-726f4d26-7fdb/1b6aeff7-5d01-458e-9e26-5afb917cf8aa.png                                                  |\n",
      "|65260731  |20211129 |{Pamara, amzn1.assetlibrary.asset1.198f5d4d083135d4acff704bf947a982:version_v1, Per il tuo futuro luminoso, [B06W5543D6, B074F576VM, B078VLNF5K], https://m.media-amazon.com/images/S/al-eu-726f4d26-7fdb/1b6aeff7-5d01-458e-9e26-5afb917cf8aa.png}                         |Pamara   |amzn1.assetlibrary.asset1.198f5d4d083135d4acff704bf947a982:version_v1|Per il tuo futuro luminoso                       |[B06W5543D6, B074F576VM, B078VLNF5K]|https://m.media-amazon.com/images/S/al-eu-726f4d26-7fdb/1b6aeff7-5d01-458e-9e26-5afb917cf8aa.png                                                  |\n",
      "|60193652  |20211129 |{Pamara, amzn1.assetlibrary.asset1.198f5d4d083135d4acff704bf947a982:version_v1, Per il tuo futuro luminoso, [B06W5543D6, B074F576VM, B078VLNF5K], https://m.media-amazon.com/images/S/al-eu-726f4d26-7fdb/1b6aeff7-5d01-458e-9e26-5afb917cf8aa.png}                         |Pamara   |amzn1.assetlibrary.asset1.198f5d4d083135d4acff704bf947a982:version_v1|Per il tuo futuro luminoso                       |[B06W5543D6, B074F576VM, B078VLNF5K]|https://m.media-amazon.com/images/S/al-eu-726f4d26-7fdb/1b6aeff7-5d01-458e-9e26-5afb917cf8aa.png                                                  |\n",
      "|9090472   |20211129 |{Pamara, amzn1.assetlibrary.asset1.198f5d4d083135d4acff704bf947a982:version_v1, Per il tuo futuro luminoso, [B06W5543D6, B074F576VM, B078VLNF5K], https://m.media-amazon.com/images/S/al-eu-726f4d26-7fdb/1b6aeff7-5d01-458e-9e26-5afb917cf8aa.png}                         |Pamara   |amzn1.assetlibrary.asset1.198f5d4d083135d4acff704bf947a982:version_v1|Per il tuo futuro luminoso                       |[B06W5543D6, B074F576VM, B078VLNF5K]|https://m.media-amazon.com/images/S/al-eu-726f4d26-7fdb/1b6aeff7-5d01-458e-9e26-5afb917cf8aa.png                                                  |\n",
      "|22962827  |20180531 |{null, null, null, null, null}                                                                                                                                                                                                                                              |null     |null                                                                 |null                                             |null                                |null                                                                                                                                              |\n",
      "|48073983  |20170927 |{KLARSTEIN, null, Coperte elettriche morbide e calde di Klarstein, [B074PRYDMV, B074PRTQ1N, B074PQZ4CM], https://images-na.ssl-images-amazon.com/images/S/gladiator-image-upload-prod/9/APJ6JRA9NG5V4/4a6e35fa26456d200e570613fbc209f3.jpg}                                 |KLARSTEIN|null                                                                 |Coperte elettriche morbide e calde di Klarstein  |[B074PRYDMV, B074PRTQ1N, B074PQZ4CM]|https://images-na.ssl-images-amazon.com/images/S/gladiator-image-upload-prod/9/APJ6JRA9NG5V4/4a6e35fa26456d200e570613fbc209f3.jpg                 |\n",
      "|40926946  |20180531 |{null, null, null, null, null}                                                                                                                                                                                                                                              |null     |null                                                                 |null                                             |null                                |null                                                                                                                                              |\n",
      "|60340574  |20180524 |{KLARSTEIN, AWOSV4H0Xn9b-RpVkO1T, Entra, spegni, raffreddati, rilassati, [B0749RJM8P, B07589QRGJ, B073QVW1CL], https://images-na.ssl-images-amazon.com/images/S/gladiator-image-upload-prod/e/APJ6JRA9NG5V4/2219d75bad4ca6031e583ca4108adbef.jpg}                           |KLARSTEIN|AWOSV4H0Xn9b-RpVkO1T                                                 |Entra, spegni, raffreddati, rilassati            |[B0749RJM8P, B07589QRGJ, B073QVW1CL]|https://images-na.ssl-images-amazon.com/images/S/gladiator-image-upload-prod/e/APJ6JRA9NG5V4/2219d75bad4ca6031e583ca4108adbef.jpg                 |\n",
      "|6363994   |20191016 |{Klarfit, AWrBHdsA7nq2gb24IJ0G, La marca moderna di fitness per tutta la famiglia, [B00VEAW58K, B07D3BBW1L, B07N2TXXF1], https://images-na.ssl-images-amazon.com/images/S/abs-image-upload-na/d/AmazonStores/APJ6JRA9NG5V4/7db214786ea78522c6b04678b2511b66.w2000.h2000.png}|Klarfit  |AWrBHdsA7nq2gb24IJ0G                                                 |La marca moderna di fitness per tutta la famiglia|[B00VEAW58K, B07D3BBW1L, B07N2TXXF1]|https://images-na.ssl-images-amazon.com/images/S/abs-image-upload-na/d/AmazonStores/APJ6JRA9NG5V4/7db214786ea78522c6b04678b2511b66.w2000.h2000.png|\n",
      "|1700450   |20191107 |{blumfeldt, AWrqY5k1Wstm4xTaWIyZ, Lasciati ispirare e goditi il tuo giardino, [B073P78667, B07KWS1WK5, B07CVGTN5H], https://images-na.ssl-images-amazon.com/images/S/abs-image-upload-na/a/AmazonStores/APJ6JRA9NG5V4/781079e6d6cad2d33b2577d070dce7ba.w2000.h2000.png}     |blumfeldt|AWrqY5k1Wstm4xTaWIyZ                                                 |Lasciati ispirare e goditi il tuo giardino       |[B073P78667, B07KWS1WK5, B07CVGTN5H]|https://images-na.ssl-images-amazon.com/images/S/abs-image-upload-na/a/AmazonStores/APJ6JRA9NG5V4/781079e6d6cad2d33b2577d070dce7ba.w2000.h2000.png|\n",
      "+----------+---------+----------------------------------------------------------------------------------------------------------------------------------------------------------------------------------------------------------------------------------------------------------------------------+---------+---------------------------------------------------------------------+-------------------------------------------------+------------------------------------+--------------------------------------------------------------------------------------------------------------------------------------------------+\n",
      "only showing top 20 rows\n",
      "\n"
     ]
    }
   ],
   "source": [
    "# Extract column names and data rows\n",
    "columns = data.select(\"columns\").first()[0]\n",
    "data_rows = data.select(\"data\").first()[0]\n",
    "\n",
    "# Create a DataFrame using the column names and data rows\n",
    "df = spark.createDataFrame(data_rows, columns)\n",
    "\n",
    "# Define a schema for the \"CREATIVE\" column\n",
    "schema = StructType([\n",
    "    StructField(\"brandName\", StringType(), True),\n",
    "    StructField(\"brandLogoAssetID\", StringType(), True),\n",
    "    StructField(\"headline\", StringType(), True),\n",
    "    StructField(\"asins\", ArrayType(StringType()), True),\n",
    "    StructField(\"brandLogoUrl\", StringType(), True),\n",
    "])\n",
    "\n",
    "# Extract values from the \"CREATIVE\" column into separate columns\n",
    "df = df.withColumn(\"CREATIVE_JSON\", col(\"CREATIVE\").cast(StringType()))\n",
    "df = df.withColumn(\"CREATIVE\", from_json(col(\"CREATIVE_JSON\"), schema))\n",
    "df = df.select(columns + [col(\"CREATIVE.*\")])\n",
    "\n",
    "df.show(truncate=False)\n"
   ]
  },
  {
   "cell_type": "code",
   "execution_count": 59,
   "metadata": {},
   "outputs": [],
   "source": [
    "#Adding asin cols\n",
    "\n",
    "df = df.withColumn(\"asin_1\", col(\"asins\").getItem(0))\n",
    "df = df.withColumn(\"asin_2\", col(\"asins\").getItem(1))\n",
    "df = df.withColumn(\"asin_3\", col(\"asins\").getItem(2))"
   ]
  },
  {
   "cell_type": "code",
   "execution_count": 60,
   "metadata": {},
   "outputs": [
    {
     "name": "stdout",
     "output_type": "stream",
     "text": [
      "+----------+---------+--------------------+---------+--------------------+--------------------+--------------------+--------------------+----------+----------+----------+\n",
      "|CAMPAIGNID|STARTDATE|            CREATIVE|brandName|    brandLogoAssetID|            headline|               asins|        brandLogoUrl|    asin_1|    asin_2|    asin_3|\n",
      "+----------+---------+--------------------+---------+--------------------+--------------------+--------------------+--------------------+----------+----------+----------+\n",
      "|  54356000| 20220326|{Pamara, amzn1.as...|   Pamara|amzn1.assetlibrar...|Per il tuo futuro...|[B06W5543D6, B074...|https://m.media-a...|B06W5543D6|B074F576VM|B078VLNF5K|\n",
      "|  32659511| 20220326|{Pamara, amzn1.as...|   Pamara|amzn1.assetlibrar...|Per il tuo futuro...|[B06W5543D6, B074...|https://m.media-a...|B06W5543D6|B074F576VM|B078VLNF5K|\n",
      "|  14600371| 20221004|{Pamara, amzn1.as...|   Pamara|amzn1.assetlibrar...|Per il tuo futuro...|[B06W5543D6, B074...|https://m.media-a...|B06W5543D6|B074F576VM|B078VLNF5K|\n",
      "|  68849012| 20221004|{Pamara, amzn1.as...|   Pamara|amzn1.assetlibrar...|Per il tuo futuro...|[B06W5543D6, B074...|https://m.media-a...|B06W5543D6|B074F576VM|B078VLNF5K|\n",
      "|  39939835| 20221004|{Pamara, amzn1.as...|   Pamara|amzn1.assetlibrar...|Per il tuo futuro...|[B06W5543D6, B074...|https://m.media-a...|B06W5543D6|B074F576VM|B078VLNF5K|\n",
      "|  32444332| 20221025|{Pamara, amzn1.as...|   Pamara|amzn1.assetlibrar...|Per il tuo futuro...|[B06W5543D6, B074...|https://m.media-a...|B06W5543D6|B074F576VM|B078VLNF5K|\n",
      "|   8327752| 20221025|{Pamara, amzn1.as...|   Pamara|amzn1.assetlibrar...|Per il tuo futuro...|[B06W5543D6, B074...|https://m.media-a...|B06W5543D6|B074F576VM|B078VLNF5K|\n",
      "|   6889220| 20221025|{Pamara, amzn1.as...|   Pamara|amzn1.assetlibrar...|Per il tuo futuro...|[B06W5543D6, B074...|https://m.media-a...|B06W5543D6|B074F576VM|B078VLNF5K|\n",
      "|  44991714| 20221124|{Pamara, amzn1.as...|   Pamara|amzn1.assetlibrar...|Per il tuo futuro...|[B074F576VM, B078...|https://m.media-a...|B074F576VM|B078VLNF5K|      null|\n",
      "|  24046193| 20221124|{Pamara, amzn1.as...|   Pamara|amzn1.assetlibrar...|Per il tuo futuro...|[B074F576VM, B078...|https://m.media-a...|B074F576VM|B078VLNF5K|      null|\n",
      "|  34073463| 20211126|{Pamara, amzn1.as...|   Pamara|amzn1.assetlibrar...|Per il tuo futuro...|[B06W5543D6, B074...|https://m.media-a...|B06W5543D6|B074F576VM|B078VLNF5K|\n",
      "|  65260731| 20211129|{Pamara, amzn1.as...|   Pamara|amzn1.assetlibrar...|Per il tuo futuro...|[B06W5543D6, B074...|https://m.media-a...|B06W5543D6|B074F576VM|B078VLNF5K|\n",
      "|  60193652| 20211129|{Pamara, amzn1.as...|   Pamara|amzn1.assetlibrar...|Per il tuo futuro...|[B06W5543D6, B074...|https://m.media-a...|B06W5543D6|B074F576VM|B078VLNF5K|\n",
      "|   9090472| 20211129|{Pamara, amzn1.as...|   Pamara|amzn1.assetlibrar...|Per il tuo futuro...|[B06W5543D6, B074...|https://m.media-a...|B06W5543D6|B074F576VM|B078VLNF5K|\n",
      "|  22962827| 20180531|{null, null, null...|     null|                null|                null|                null|                null|      null|      null|      null|\n",
      "|  48073983| 20170927|{KLARSTEIN, null,...|KLARSTEIN|                null|Coperte elettrich...|[B074PRYDMV, B074...|https://images-na...|B074PRYDMV|B074PRTQ1N|B074PQZ4CM|\n",
      "|  40926946| 20180531|{null, null, null...|     null|                null|                null|                null|                null|      null|      null|      null|\n",
      "|  60340574| 20180524|{KLARSTEIN, AWOSV...|KLARSTEIN|AWOSV4H0Xn9b-RpVkO1T|Entra, spegni, ra...|[B0749RJM8P, B075...|https://images-na...|B0749RJM8P|B07589QRGJ|B073QVW1CL|\n",
      "|   6363994| 20191016|{Klarfit, AWrBHds...|  Klarfit|AWrBHdsA7nq2gb24IJ0G|La marca moderna ...|[B00VEAW58K, B07D...|https://images-na...|B00VEAW58K|B07D3BBW1L|B07N2TXXF1|\n",
      "|   1700450| 20191107|{blumfeldt, AWrqY...|blumfeldt|AWrqY5k1Wstm4xTaWIyZ|Lasciati ispirare...|[B073P78667, B07K...|https://images-na...|B073P78667|B07KWS1WK5|B07CVGTN5H|\n",
      "+----------+---------+--------------------+---------+--------------------+--------------------+--------------------+--------------------+----------+----------+----------+\n",
      "only showing top 20 rows\n",
      "\n"
     ]
    }
   ],
   "source": [
    "df.show()"
   ]
  },
  {
   "cell_type": "code",
   "execution_count": 61,
   "metadata": {},
   "outputs": [],
   "source": [
    "#getting distinct asins from sales df\n",
    "distinct_asins_df = result_df.select(\"child_asin\").distinct()"
   ]
  },
  {
   "cell_type": "code",
   "execution_count": 62,
   "metadata": {},
   "outputs": [
    {
     "name": "stdout",
     "output_type": "stream",
     "text": [
      "+----------+\n",
      "|child_asin|\n",
      "+----------+\n",
      "|B08HVGLWJM|\n",
      "|B07R621F4H|\n",
      "|B00TKHT08M|\n",
      "|B0747M22NQ|\n",
      "|B08TRK1YCX|\n",
      "|B07ZKW56QG|\n",
      "|B0924NDG7G|\n",
      "|B07VFVZL12|\n",
      "|B01HXLIGIG|\n",
      "|B074M96TMX|\n",
      "|B00F85E0BC|\n",
      "|B08K3L7531|\n",
      "|B07T22YGXX|\n",
      "|B07DHPR4CZ|\n",
      "|B092R2MB5B|\n",
      "|B01MY4KWIE|\n",
      "|B08C59MLCP|\n",
      "|B00S9SMLDY|\n",
      "|B07WS884YH|\n",
      "|B00LIHFPWC|\n",
      "+----------+\n",
      "only showing top 20 rows\n",
      "\n"
     ]
    }
   ],
   "source": [
    "distinct_asins_df.show()"
   ]
  },
  {
   "cell_type": "code",
   "execution_count": null,
   "metadata": {},
   "outputs": [],
   "source": []
  }
 ],
 "metadata": {
  "kernelspec": {
   "display_name": "Python 3",
   "language": "python",
   "name": "python3"
  },
  "language_info": {
   "codemirror_mode": {
    "name": "ipython",
    "version": 3
   },
   "file_extension": ".py",
   "mimetype": "text/x-python",
   "name": "python",
   "nbconvert_exporter": "python",
   "pygments_lexer": "ipython3",
   "version": "3.7.4"
  }
 },
 "nbformat": 4,
 "nbformat_minor": 2
}
